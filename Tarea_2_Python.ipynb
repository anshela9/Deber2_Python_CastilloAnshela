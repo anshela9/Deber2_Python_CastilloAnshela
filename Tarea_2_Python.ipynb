{
 "cells": [
  {
   "cell_type": "code",
   "execution_count": 1,
   "id": "37e1aaf2-9419-40d9-a577-2b39a746991b",
   "metadata": {},
   "outputs": [],
   "source": [
    "#Nombre : Anshela Melania Castillo Nicolalde \n",
    "#Tarea: Dos\n",
    "# Importamos las bibliotecas necesarias para el desarrollo del programa"
   ]
  },
  {
   "cell_type": "code",
   "execution_count": 2,
   "id": "ce9a04fd-3adf-4357-80b7-7bb6c3756373",
   "metadata": {},
   "outputs": [],
   "source": [
    "import pandas as pd\n",
    "import numpy as np"
   ]
  },
  {
   "cell_type": "code",
   "execution_count": 3,
   "id": "289a3716-f32e-49bc-98b9-cd7dbe0af663",
   "metadata": {},
   "outputs": [],
   "source": [
    "# Cargamos los da markdowntos desde el repositorio de GitHub como se menciona"
   ]
  },
  {
   "cell_type": "code",
   "execution_count": 4,
   "id": "33c435e9-c157-4190-80c1-d2bec311decf",
   "metadata": {},
   "outputs": [],
   "source": [
    "url = \"https://raw.githubusercontent.com/cienciadedatos/datos-de-miercoles/master/datos/2019/2019-08-07/felicidad.csv\"\n",
    "data = pd.read_csv(url)"
   ]
  },
  {
   "cell_type": "code",
   "execution_count": 5,
   "id": "7a8e1fc6-50e6-42c4-91b9-7d757aad5056",
   "metadata": {},
   "outputs": [],
   "source": [
    "# Observamos los datos de felicidad"
   ]
  },
  {
   "cell_type": "code",
   "execution_count": 6,
   "id": "b6e807c5-a564-4c3c-a1d6-d11e873746fa",
   "metadata": {},
   "outputs": [
    {
     "name": "stdout",
     "output_type": "stream",
     "text": [
      "          pais  anio  escalera_vida   log_pib  soporte_social  \\\n",
      "0  Afghanistán  2008       3.723590  7.168690        0.450662   \n",
      "1  Afghanistán  2009       4.401778  7.333790        0.552308   \n",
      "2  Afghanistán  2010       4.758381  7.386629        0.539075   \n",
      "3  Afghanistán  2011       3.831719  7.415019        0.521104   \n",
      "4  Afghanistán  2012       3.782938  7.517126        0.520637   \n",
      "\n",
      "   expectativa_vida  libertad  generosidad  percepcion_corrupcion  \\\n",
      "0         50.799999  0.718114     0.177889               0.881686   \n",
      "1         51.200001  0.678896     0.200178               0.850035   \n",
      "2         51.599998  0.600127     0.134353               0.706766   \n",
      "3         51.919998  0.495901     0.172137               0.731109   \n",
      "4         52.240002  0.530935     0.244273               0.775620   \n",
      "\n",
      "   afecto_positivo  afecto_negativo  confianza  calidad_democracia  \\\n",
      "0         0.517637         0.258195   0.612072           -1.929690   \n",
      "1         0.583926         0.237092   0.611545           -2.044093   \n",
      "2         0.618265         0.275324   0.299357           -1.991810   \n",
      "3         0.611387         0.267175   0.307386           -1.919018   \n",
      "4         0.710385         0.267919   0.435440           -1.842996   \n",
      "\n",
      "   calidad_entrega  de_escalera_pais_anio  gini_banco_mundial  \\\n",
      "0        -1.655084               1.774662                 NaN   \n",
      "1        -1.635025               1.722688                 NaN   \n",
      "2        -1.617176               1.878622                 NaN   \n",
      "3        -1.616221               1.785360                 NaN   \n",
      "4        -1.404078               1.798283                 NaN   \n",
      "\n",
      "   gini_banco_mundial_promedio  \n",
      "0                          NaN  \n",
      "1                          NaN  \n",
      "2                          NaN  \n",
      "3                          NaN  \n",
      "4                          NaN  \n"
     ]
    }
   ],
   "source": [
    "print(data.head())"
   ]
  },
  {
   "cell_type": "code",
   "execution_count": 7,
   "id": "9cbafd72-52c7-40aa-9e06-26018642da63",
   "metadata": {},
   "outputs": [],
   "source": [
    "# Observamos y mostramos los nombres de las columnas de nuestra bbdd"
   ]
  },
  {
   "cell_type": "code",
   "execution_count": 8,
   "id": "e9fd8123-d636-4d1e-bb5a-02d4ade633ec",
   "metadata": {},
   "outputs": [
    {
     "name": "stdout",
     "output_type": "stream",
     "text": [
      "Index(['pais', 'anio', 'escalera_vida', 'log_pib', 'soporte_social',\n",
      "       'expectativa_vida', 'libertad', 'generosidad', 'percepcion_corrupcion',\n",
      "       'afecto_positivo', 'afecto_negativo', 'confianza', 'calidad_democracia',\n",
      "       'calidad_entrega', 'de_escalera_pais_anio', 'gini_banco_mundial',\n",
      "       'gini_banco_mundial_promedio'],\n",
      "      dtype='object')\n"
     ]
    }
   ],
   "source": [
    "nombres_columna = data.columns\n",
    "print(nombres_columna)"
   ]
  },
  {
   "cell_type": "code",
   "execution_count": 9,
   "id": "eafb5648-23d3-4a75-b5ea-4fc6f1073525",
   "metadata": {},
   "outputs": [],
   "source": [
    "# Identificamos el primer (min) y último año (max)\n",
    "primer_anio = data['anio'].min()\n",
    "ultimo_anio = data['anio'].max()"
   ]
  },
  {
   "cell_type": "code",
   "execution_count": 10,
   "id": "7c93593b-ec17-4236-aebe-63118f33f89a",
   "metadata": {},
   "outputs": [
    {
     "name": "stdout",
     "output_type": "stream",
     "text": [
      "[2008 2009 2010 2011 2012 2013 2014 2015 2016 2017 2018 2007 2006 2005]\n"
     ]
    }
   ],
   "source": [
    "print(data['anio'].unique())"
   ]
  },
  {
   "cell_type": "code",
   "execution_count": 11,
   "id": "dad5519f-497a-4771-99fa-0830ae1ca27a",
   "metadata": {},
   "outputs": [],
   "source": [
    "# Medida de tendencia central y dispersión de la felicidad a nivel mundial para el primer año (media y std)\n",
    "media_primer_anio = data[data['anio'] == primer_anio]['escalera_vida'].mean()\n",
    "std_primer_anio = data[data['anio'] == primer_anio]['escalera_vida'].std()"
   ]
  },
  {
   "cell_type": "code",
   "execution_count": 12,
   "id": "d0e7f778-fece-4a45-994e-a8dfcef13b32",
   "metadata": {},
   "outputs": [
    {
     "name": "stdout",
     "output_type": "stream",
     "text": [
      "Medidas (media y std) del primer año:\n",
      "Media: 6.446164272449635\n",
      "Std: 0.9191426322726483\n"
     ]
    }
   ],
   "source": [
    "# Print las medidas (media y std) del primer año\n",
    "print(f\"Medidas (media y std) del primer año:\")\n",
    "print(f\"Media: {media_primer_anio}\")\n",
    "print(f\"Std: {std_primer_anio}\")"
   ]
  },
  {
   "cell_type": "code",
   "execution_count": 13,
   "id": "7ffacf5d-56aa-4d22-8dfa-972f67359a47",
   "metadata": {},
   "outputs": [],
   "source": [
    "# Medida de tendencia central y dispersión de la felicidad a nivel mundial para el último año (media y std) esto quiere decir cuando se informa la media y la desviación estándar de la felicidad a nivel mundial para el último año, se está proporcionando una imagen resumida de cómo se distribuyen los niveles de felicidad en la población mundial en ese año. Esto puede ser útil para comparar años diferentes, identificar tendencias a lo largo del tiempo y comprender mejor la variabilidad en los niveles de felicidad en todo el mundo."
   ]
  },
  {
   "cell_type": "code",
   "execution_count": 14,
   "id": "15a9bce9-fe59-41f9-a100-ad3a3428ed2a",
   "metadata": {},
   "outputs": [],
   "source": [
    "media_ultimo_anio = data[data['anio'] == ultimo_anio]['escalera_vida'].mean()\n",
    "std_ultimo_anio = data[data['anio'] == ultimo_anio]['escalera_vida'].std()"
   ]
  },
  {
   "cell_type": "code",
   "execution_count": 15,
   "id": "248b57f5-1d39-4dd2-88f4-69e825c60726",
   "metadata": {},
   "outputs": [],
   "source": [
    "# Print las medidas (media y std) de último año"
   ]
  },
  {
   "cell_type": "code",
   "execution_count": 16,
   "id": "5cea0d6f-9b05-4c16-ba06-76d10f8e2646",
   "metadata": {},
   "outputs": [
    {
     "name": "stdout",
     "output_type": "stream",
     "text": [
      "Medidas (media y std) del último año:\n",
      "Media: 5.502134340650895\n",
      "Std: 1.1034612436939357\n"
     ]
    }
   ],
   "source": [
    "print(f\"Medidas (media y std) del último año:\")\n",
    "print(f\"Media: {media_ultimo_anio}\")\n",
    "print(f\"Std: {std_ultimo_anio}\")"
   ]
  },
  {
   "cell_type": "code",
   "execution_count": 17,
   "id": "bfc493f7-4655-4dcf-8159-7a4f60e74702",
   "metadata": {},
   "outputs": [],
   "source": [
    "# Creacion de graficos donde para crear un gráfico de histograma con líneas verticales que representan la media y la desviación estándar de dos conjuntos de datos de felicidad en el primer y último año."
   ]
  },
  {
   "cell_type": "code",
   "execution_count": 18,
   "id": "2edaa098-375d-48fe-a53f-57a4438ac745",
   "metadata": {},
   "outputs": [
    {
     "name": "stdout",
     "output_type": "stream",
     "text": [
      "Defaulting to user installation because normal site-packages is not writeable\n",
      "Requirement already satisfied: matplotlib in c:\\programdata\\anaconda3\\lib\\site-packages (3.5.2)\n",
      "Requirement already satisfied: pillow>=6.2.0 in c:\\programdata\\anaconda3\\lib\\site-packages (from matplotlib) (9.3.0)\n",
      "Requirement already satisfied: kiwisolver>=1.0.1 in c:\\programdata\\anaconda3\\lib\\site-packages (from matplotlib) (1.4.2)\n",
      "Requirement already satisfied: numpy>=1.17 in c:\\programdata\\anaconda3\\lib\\site-packages (from matplotlib) (1.23.5)\n",
      "Requirement already satisfied: python-dateutil>=2.7 in c:\\programdata\\anaconda3\\lib\\site-packages (from matplotlib) (2.8.2)\n",
      "Requirement already satisfied: packaging>=20.0 in c:\\programdata\\anaconda3\\lib\\site-packages (from matplotlib) (21.3)\n",
      "Requirement already satisfied: cycler>=0.10 in c:\\programdata\\anaconda3\\lib\\site-packages (from matplotlib) (0.11.0)\n",
      "Requirement already satisfied: pyparsing>=2.2.1 in c:\\programdata\\anaconda3\\lib\\site-packages (from matplotlib) (3.0.9)\n",
      "Requirement already satisfied: fonttools>=4.22.0 in c:\\programdata\\anaconda3\\lib\\site-packages (from matplotlib) (4.25.0)\n",
      "Requirement already satisfied: six>=1.5 in c:\\programdata\\anaconda3\\lib\\site-packages (from python-dateutil>=2.7->matplotlib) (1.16.0)\n"
     ]
    }
   ],
   "source": [
    "!pip install matplotlib"
   ]
  },
  {
   "cell_type": "code",
   "execution_count": 19,
   "id": "b7e17426-dd81-4d28-be55-54c9eb51fa28",
   "metadata": {},
   "outputs": [],
   "source": [
    "import matplotlib.pyplot as plt"
   ]
  },
  {
   "cell_type": "code",
   "execution_count": 20,
   "id": "7f2122d0-7966-4cdf-a4b6-872b572306e7",
   "metadata": {},
   "outputs": [],
   "source": [
    "# Creación datos de ejemplo para el gráfico\n",
    "np.random.seed(0)\n",
    "felicidad_primer_anio = np.random.normal(media_primer_anio, std_primer_anio, 1000)\n",
    "felicidad_ultimo_anio = np.random.normal(media_ultimo_anio, std_ultimo_anio, 1000)"
   ]
  },
  {
   "cell_type": "code",
   "execution_count": 21,
   "id": "4efd6cc4-f1d4-4e86-8c2f-464438a9f742",
   "metadata": {},
   "outputs": [
    {
     "data": {
      "image/png": "[encoded data removed]",
      "text/plain": [
       "<Figure size 1000x500 with 1 Axes>"
      ]
     },
     "metadata": {},
     "output_type": "display_data"
    }
   ],
   "source": [
    "import matplotlib.pyplot as plt\n",
    "\n",
    "# Datos de felicidad del primer y último año\n",
    "felicidad_primer_anio = [0.5, 0.8, 1.2, 1.5, 2.0, 2.2, 2.5, 2.7, 3.0, 3.2]\n",
    "felicidad_ultimo_anio = [1.0, 1.2, 1.3, 1.6, 2.2, 2.5, 2.7, 2.8, 3.1, 3.4]\n",
    "\n",
    "# Calcular la media y la desviación estándar de los datos\n",
    "media_primer_anio = sum(felicidad_primer_anio) / len(felicidad_primer_anio)\n",
    "std_primer_anio = (sum((x - media_primer_anio) ** 2 for x in felicidad_primer_anio) / len(felicidad_primer_anio)) ** 0.5\n",
    "\n",
    "media_ultimo_anio = sum(felicidad_ultimo_anio) / len(felicidad_ultimo_anio)\n",
    "std_ultimo_anio = (sum((x - media_ultimo_anio) ** 2 for x in felicidad_ultimo_anio) / len(felicidad_ultimo_anio)) ** 0.5\n",
    "\n",
    "# Crear el gráfico\n",
    "plt.figure(figsize=(10, 5))\n",
    "plt.hist(felicidad_primer_anio, bins=30, alpha=0.5, color='g', label='Felicidad Primer Año')\n",
    "plt.hist(felicidad_ultimo_anio, bins=30, alpha=0.5, color='b', label='Felicidad Último Año')\n",
    "\n",
    "# Líneas verticales para representar la media y la desviación estándar\n",
    "plt.axvline(media_primer_anio, color='r', linestyle='dashed', linewidth=2, label=f'Media Primer Año: {media_primer_anio:.2f}')\n",
    "plt.axvline(media_primer_anio + std_primer_anio, color='r', linestyle='dotted', linewidth=2, label=f'Std Primer Año: {std_primer_anio:.2f}')\n",
    "plt.axvline(media_primer_anio - std_primer_anio, color='r', linestyle='dotted', linewidth=2)\n",
    "plt.axvline(media_ultimo_anio, color='c', linestyle='dashed', linewidth=2, label=f'Media Último Año: {media_ultimo_anio:.2f}')\n",
    "plt.axvline(media_ultimo_anio + std_ultimo_anio, color='c', linestyle='dotted', linewidth=2, label=f'Std Último Año: {std_ultimo_anio:.2f}')\n",
    "plt.axvline(media_ultimo_anio - std_ultimo_anio, color='c', linestyle='dotted', linewidth=2)\n",
    "\n",
    "# Configuración de etiquetas y leyenda\n",
    "plt.xlabel('Felicidad')\n",
    "plt.ylabel('Frecuencia')\n",
    "plt.legend()\n",
    "\n",
    "# Mostrar el gráfico\n",
    "plt.show()\n"
   ]
  },
  {
   "cell_type": "code",
   "execution_count": 22,
   "id": "a94e0493-43a8-4ee1-a8af-5cfc91ed5754",
   "metadata": {},
   "outputs": [
    {
     "name": "stdout",
     "output_type": "stream",
     "text": [
      "['Afghanistán' 'Albania' 'Algeria' 'Angola' 'Argentina' 'Armenia'\n",
      " 'Australia' 'Austria' 'Azerbaijan' 'Bahrain' 'Bangladesh' 'Bielorrusia'\n",
      " 'Bélgica' 'Belize' 'Benin' 'Bhutan' 'Bolivia' 'Bosnia y Herzegovina'\n",
      " 'Botswana' 'Brasil' 'Bulgaria' 'Burkina Faso' 'Burundi' 'Cambodia'\n",
      " 'Camerún' 'Canadá' 'República Central Africana' 'Chad' 'Chile' 'China'\n",
      " 'Colombia' 'Comoros' 'Congo (Brazzaville)' 'Congo (Kinshasa)'\n",
      " 'Costa Rica' 'Croacia' 'Cuba' 'Chipre' 'República Checa' 'Dinamarca'\n",
      " 'Djibouti' 'República Dominicana' 'Ecuador' 'Egipto' 'El Salvador'\n",
      " 'Estonia' 'Etiopía' 'Finlandia' 'Francia' 'Gabón' 'Gambia' 'Georgia'\n",
      " 'Alemania' 'Ghana' 'Greece' 'Guatemala' 'Guinea' 'Guyana' 'Haití'\n",
      " 'Honduras' 'Hong Kong S.A.R. of China' 'Hungría' 'Islandia' 'India'\n",
      " 'Indonesia' 'Iran' 'Irak' 'Irlanda' 'Israel' 'Italia' 'Costa de Marfil'\n",
      " 'Jamaica' 'Japón' 'Jordania' 'Kazakhstan' 'Kenia' 'Kosovo' 'Kuwait'\n",
      " 'Kyrgyzstan' 'Laos' 'Latvia' 'Líbano' 'Lesotho' 'Liberia' 'Libya'\n",
      " 'Lituania' 'Luxemburgo' 'Macedonia' 'Madagascar' 'Malawi' 'Malasia'\n",
      " 'Mali' 'Malta' 'Mauritania' 'Mauritius' 'México' 'Moldova' 'Mongolia'\n",
      " 'Montenegro' 'Marruecos' 'Mozambique' 'Myanmar' 'Namibia' 'Nepal'\n",
      " 'Países Bajos' 'Nueva Zelanda' 'Nicaragua' 'Nigeria' 'North Cyprus'\n",
      " 'Noruega' 'Oman' 'Pakistan' 'Palestinian Territories' 'Panamá' 'Paraguay'\n",
      " 'Perú' 'Filipinas' 'Polonia' 'Portugal' 'Qatar' 'Rumania' 'Rusia'\n",
      " 'Ruanda' 'Arabia Saudita' 'Senegal' 'Serbia' 'Sierra Leona' 'Singapur'\n",
      " 'Eslovaquia' 'Eslovenia' 'Somalía' 'Somaliland region' 'Sudáfrica'\n",
      " 'Corea del Sur' 'South Sudan' 'España' 'Sri Lanka' 'Sudan' 'Surinam'\n",
      " 'Swaziland' 'Suecia' 'Suiza' 'Syria' 'Taiwán' 'Tajikistan' 'Tanzania'\n",
      " 'Tailandia' 'Togo' 'Trinidad y Tobago' 'Túnez' 'Turquía' 'Turkmenistan'\n",
      " 'Uganda' 'Ucrania' 'Emiratos Árabes Unidos' 'Reino Unido'\n",
      " 'Estados Unidos' 'Uruguay' 'Uzbekistan' 'Venezuela' 'Vietnam' 'Yemen'\n",
      " 'Zambia' 'Zimbabue']\n"
     ]
    }
   ],
   "source": [
    "print(data['pais'].unique())"
   ]
  },
  {
   "cell_type": "code",
   "execution_count": 23,
   "id": "db3cb84a-29eb-4c7f-b21c-e14f5d0770a5",
   "metadata": {},
   "outputs": [],
   "source": [
    "# Accedemos a la información de la felicidad del primer y último año para los dos países de nuestra elección\n",
    "pais1 = 'Bélgica'\n",
    "pais2 = 'Australia'"
   ]
  },
  {
   "cell_type": "code",
   "execution_count": 24,
   "id": "07211809-1cfe-4f18-8e26-3a031bb8af24",
   "metadata": {},
   "outputs": [],
   "source": [
    "# Filtrar datos para el primer año y los países seleccionados\n",
    "felicidad_pais1_primer_anio_data = data[(data['anio'] == primer_anio) & (data['pais'] == pais1)]['escalera_vida']\n",
    "\n",
    "if len(felicidad_pais1_primer_anio_data) > 0:\n",
    "    felicidad_pais1_primer_anio = felicidad_pais1_primer_anio_data.values[0]\n",
    "else:\n",
    "    print(f\"No se encontraron datos para el país {pais1} en el primer año.\")"
   ]
  },
  {
   "cell_type": "code",
   "execution_count": 25,
   "id": "6197323b-5257-4895-b766-41b1535dc272",
   "metadata": {},
   "outputs": [],
   "source": [
    "# Filtrar datos para del primer año y los países seleccionados\n",
    "felicidad_pais1_primer_anio = data[(data['anio'] == primer_anio) & (data['pais'] == pais1)]['escalera_vida'].values[0]\n",
    "felicidad_pais2_primer_anio = data[(data['anio'] == primer_anio) & (data['pais'] == pais2)]['escalera_vida'].values[0]\n"
   ]
  },
  {
   "cell_type": "code",
   "execution_count": 26,
   "id": "8ca1c31f-e015-40ad-a30a-47977d3987ae",
   "metadata": {},
   "outputs": [],
   "source": [
    "# Filtrar datos para el ultimo año y los países seleccionados\n",
    "felicidad_pais1_ultimo_anio = data[(data['anio'] == ultimo_anio) & (data['pais'] == pais1)]['escalera_vida'].values[0]\n",
    "felicidad_pais2_ultimo_anio = data[(data['anio'] == ultimo_anio) & (data['pais'] == pais2)]['escalera_vida'].values[0]"
   ]
  },
  {
   "cell_type": "code",
   "execution_count": 27,
   "id": "1d385f4e-2cde-41f0-afd2-5de6d2351974",
   "metadata": {},
   "outputs": [
    {
     "name": "stdout",
     "output_type": "stream",
     "text": [
      "Felicidad en Bélgica en el primer año (2005): 7.262290477752685\n",
      "Felicidad en Australia en el primer año (2005): 7.340688228607178\n",
      "Felicidad en Bélgica en el último año (2018): 6.892171859741211\n",
      "Felicidad en Australia en el último año (2018): 7.176993370056152\n"
     ]
    }
   ],
   "source": [
    "# Identidicar los niveles de felicidad de los países seleccionados\n",
    "print(f\"Felicidad en {pais1} en el primer año (2005): {felicidad_pais1_primer_anio}\")\n",
    "print(f\"Felicidad en {pais2} en el primer año (2005): {felicidad_pais2_primer_anio}\")\n",
    "print(f\"Felicidad en {pais1} en el último año (2018): {felicidad_pais1_ultimo_anio}\")\n",
    "print(f\"Felicidad en {pais2} en el último año (2018): {felicidad_pais2_ultimo_anio}\")"
   ]
  },
  {
   "cell_type": "code",
   "execution_count": 28,
   "id": "c07ae783-4b29-4fe2-99d1-d62d849b2ad6",
   "metadata": {},
   "outputs": [
    {
     "name": "stdout",
     "output_type": "stream",
     "text": [
      "BÉLGICA fue feliz que el promedio del resto del mundo en el primer año (2005).\n",
      "BÉLGICA fue feliz que el promedio del resto del mundo en el último año (2018).\n",
      "AUTRALIA es menos feliz que el promedio del resto del mundo en el primer año (2005).\n",
      "AUTRALIA fue feliz que el promedio del resto del mundo en el último año (2018).\n"
     ]
    }
   ],
   "source": [
    "def comparar_felicidad(pais, felicidad_primer_anio, felicidad_ultimo_anio, media_primer_anio, media_ultimo_anio):\n",
    "    comparacion_primer_anio = f\"{pais} {'fue' if felicidad_primer_anio > media_primer_anio else 'es menos'} feliz que el promedio del resto del mundo en el primer año (2005).\"\n",
    "    comparacion_ultimo_anio = f\"{pais} {'fue' if felicidad_ultimo_anio > media_ultimo_anio else 'fue menos'} feliz que el promedio del resto del mundo en el último año (2018).\"\n",
    "    return comparacion_primer_anio, comparacion_ultimo_anio\n",
    "\n",
    "pais1 = \"BÉLGICA\"\n",
    "pais2 = \"AUTRALIA\"\n",
    "\n",
    "# Supongamos que tienes los valores de felicidad para pais1 y pais2 en los años 2005 y 2018\n",
    "felicidad_pais1_primer_anio = 2.0\n",
    "felicidad_pais1_ultimo_anio = 3.5\n",
    "\n",
    "felicidad_pais2_primer_anio = 1.5\n",
    "felicidad_pais2_ultimo_anio = 3.0\n",
    "\n",
    "comparacion_pais1_primer_anio, comparacion_pais1_ultimo_anio = comparar_felicidad(pais1, felicidad_pais1_primer_anio, felicidad_pais1_ultimo_anio, media_primer_anio, media_ultimo_anio)\n",
    "comparacion_pais2_primer_anio, comparacion_pais2_ultimo_anio = comparar_felicidad(pais2, felicidad_pais2_primer_anio, felicidad_pais2_ultimo_anio, media_primer_anio, media_ultimo_anio)\n",
    "\n",
    "print(comparacion_pais1_primer_anio)\n",
    "print(comparacion_pais1_ultimo_anio)\n",
    "print(comparacion_pais2_primer_anio)\n",
    "print(comparacion_pais2_ultimo_anio)\n"
   ]
  }
 ],
 "metadata": {
  "kernelspec": {
   "display_name": "Python 3 (ipykernel)",
   "language": "python",
   "name": "python3"
  },
  "language_info": {
   "codemirror_mode": {
    "name": "ipython",
    "version": 3
   },
   "file_extension": ".py",
   "mimetype": "text/x-python",
   "name": "python",
   "nbconvert_exporter": "python",
   "pygments_lexer": "ipython3",
   "version": "3.9.13"
  }
 },
 "nbformat": 4,
 "nbformat_minor": 5
}
